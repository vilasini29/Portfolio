{
 "cells": [
  {
   "cell_type": "code",
   "execution_count": null,
   "id": "012ffb9c",
   "metadata": {},
   "outputs": [],
   "source": [
    "from bs4 import BeautifulSoup\n",
    "import requests\n",
    "import smtplib\n",
    "import datetime\n",
    "\n",
    "website = \"https://www.amazon.com/Instant-Pot-Duo-Evo-Plus/dp/B07W55DDFB/ref=sr_1_1?qid=1597662463\"\n",
    "# \"Request Line\":\"GET / HTTP/1.1\",\n",
    "#           \"Accept\":\"text/html,application/xhtml+xml,application/xml;q=0.9,image/webp,image/apng,*/*;q=0.8,application/signed-exchange;v=b3;q=0.9\"\n",
    "#           \"Accept-Encoding\":\"gzip deflate\",\n",
    "headers = {\n",
    "    \"Accept-Language\":\"en-US\",\n",
    "    \"User-Agent\":\"Mozilla/5.0 (Windows NT 10.0; Win64; x64) AppleWebKit/537.36 (KHTML, like Gecko) Chrome/100.0.4896.75 Safari/537.36 Edg/100.0.1185.36\"\n",
    "}\n",
    "\n",
    "gmail = #gmail id\n",
    "yahoo = #yahoo id\n",
    "gmail_password = #gmail password here\n",
    "yahoo_password = #yahoo password here\n",
    "today = datetime.datetime.today()\n",
    "print(today)\n",
    "response = requests.get(url=website, headers=headers)\n",
    "content = response.text\n",
    "\n",
    "soup = BeautifulSoup(content, \"html.parser\")\n",
    "price_text= soup.find(class_=\"a-size-mini olpWrapper\")\n",
    "price_list= price_text.getText().split(\"$\")\n",
    "price = float(price_list[1])\n",
    "threshold_value = 100.00\n",
    "\n",
    "if price<=threshold_value:\n",
    "    with smtplib.SMTP(\"smtp.gmail.com\", port=587) as connection:\n",
    "        connection.starttls()\n",
    "        connection.login(user=gmail, password=gmail_password)\n",
    "        connection.sendmail(from_addr=gmail, to_addrs=gmail, msg=\"The product price is in your budget\\n\\n${} on {}\".format(price,today))\n",
    "else:\n",
    "    print(\"Too expensive\")\n",
    "    print(price)\n"
   ]
  }
 ],
 "metadata": {
  "kernelspec": {
   "display_name": "Python 3 (ipykernel)",
   "language": "python",
   "name": "python3"
  },
  "language_info": {
   "codemirror_mode": {
    "name": "ipython",
    "version": 3
   },
   "file_extension": ".py",
   "mimetype": "text/x-python",
   "name": "python",
   "nbconvert_exporter": "python",
   "pygments_lexer": "ipython3",
   "version": "3.9.7"
  }
 },
 "nbformat": 4,
 "nbformat_minor": 5
}
